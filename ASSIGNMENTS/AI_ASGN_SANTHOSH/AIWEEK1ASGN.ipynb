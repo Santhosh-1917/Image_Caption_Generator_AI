{
  "nbformat": 4,
  "nbformat_minor": 0,
  "metadata": {
    "colab": {
      "provenance": []
    },
    "kernelspec": {
      "name": "python3",
      "display_name": "Python 3"
    },
    "language_info": {
      "name": "python"
    }
  },
  "cells": [
    {
      "cell_type": "code",
      "execution_count": 1,
      "metadata": {
        "id": "mZq2mYrOHh6L"
      },
      "outputs": [],
      "source": [
        "import pandas as pd\n",
        "import numpy as np"
      ]
    },
    {
      "cell_type": "code",
      "source": [
        "# Set the random seed for reproducibility\n",
        "np.random.seed(100)\n",
        "\n",
        "# Create random values for the DataFrame\n",
        "data = np.random.randn(4, 4)\n",
        "\n",
        "# Create the DataFrame\n",
        "df = pd.DataFrame(data, columns=['Random Value 1', 'Random Value 2', 'Random Value 3', 'Random Value 4'])\n",
        "\n",
        "# Print the DataFrame\n",
        "print(df)"
      ],
      "metadata": {
        "colab": {
          "base_uri": "https://localhost:8080/"
        },
        "id": "c0Bgm9Q5JcDq",
        "outputId": "989793e0-fe91-4c47-cebc-e1e7720d83cf"
      },
      "execution_count": 2,
      "outputs": [
        {
          "output_type": "stream",
          "name": "stdout",
          "text": [
            "   Random Value 1  Random Value 2  Random Value 3  Random Value 4\n",
            "0       -1.749765        0.342680        1.153036       -0.252436\n",
            "1        0.981321        0.514219        0.221180       -1.070043\n",
            "2       -0.189496        0.255001       -0.458027        0.435163\n",
            "3       -0.583595        0.816847        0.672721       -0.104411\n"
          ]
        }
      ]
    },
    {
      "cell_type": "code",
      "source": [
        "#Descriptive Statistics\n",
        "stats = df.describe()\n",
        "\n",
        "# Print the statistics\n",
        "print(stats)"
      ],
      "metadata": {
        "colab": {
          "base_uri": "https://localhost:8080/"
        },
        "id": "7GNUkK8YJ8ep",
        "outputId": "19e97e79-892c-456f-cda0-6d51a10cc1b0"
      },
      "execution_count": 3,
      "outputs": [
        {
          "output_type": "stream",
          "name": "stdout",
          "text": [
            "       Random Value 1  Random Value 2  Random Value 3  Random Value 4\n",
            "count        4.000000        4.000000        4.000000        4.000000\n",
            "mean        -0.385384        0.482187        0.397227       -0.247932\n",
            "std          1.126511        0.247722        0.685467        0.622657\n",
            "min         -1.749765        0.255001       -0.458027       -1.070043\n",
            "25%         -0.875138        0.320761        0.051378       -0.456838\n",
            "50%         -0.386545        0.428450        0.446950       -0.178424\n",
            "75%          0.103208        0.589876        0.792800        0.030483\n",
            "max          0.981321        0.816847        1.153036        0.435163\n"
          ]
        }
      ]
    },
    {
      "cell_type": "code",
      "source": [
        "# Check for null values\n",
        "null_values = df.isnull().sum()\n",
        "\n",
        "# Find the data type of columns\n",
        "data_types = df.dtypes\n",
        "\n",
        "# Print the results\n",
        "\n",
        "print(\"Null Values:\")\n",
        "print(null_values)\n",
        "\n",
        "print(\"\\nData Types:\")\n",
        "print(data_types)"
      ],
      "metadata": {
        "colab": {
          "base_uri": "https://localhost:8080/"
        },
        "id": "MC5lHdesKHga",
        "outputId": "a8a1baec-f11a-4f89-8d99-c1a91a38b737"
      },
      "execution_count": 4,
      "outputs": [
        {
          "output_type": "stream",
          "name": "stdout",
          "text": [
            "Null Values:\n",
            "Random Value 1    0\n",
            "Random Value 2    0\n",
            "Random Value 3    0\n",
            "Random Value 4    0\n",
            "dtype: int64\n",
            "\n",
            "Data Types:\n",
            "Random Value 1    float64\n",
            "Random Value 2    float64\n",
            "Random Value 3    float64\n",
            "Random Value 4    float64\n",
            "dtype: object\n"
          ]
        }
      ]
    },
    {
      "cell_type": "code",
      "source": [
        "# Display columns using the location method\n",
        "location_method_cols = df.loc[:, ['Random Value 2', 'Random Value 3']]\n",
        "print(\"Using the location method:\")\n",
        "print(location_method_cols)\n",
        "\n",
        "# Display columns using the index location method\n",
        "index_location_method_cols = df.iloc[:, [1, 2]]\n",
        "print(\"\\nUsing the index location method:\")\n",
        "print(index_location_method_cols)"
      ],
      "metadata": {
        "colab": {
          "base_uri": "https://localhost:8080/"
        },
        "id": "-fQRZBVFKjTn",
        "outputId": "52a3781a-53b6-4017-b2ce-a7da91cbac2d"
      },
      "execution_count": 7,
      "outputs": [
        {
          "output_type": "stream",
          "name": "stdout",
          "text": [
            "Using the location method:\n",
            "   Random Value 2  Random Value 3\n",
            "0        0.342680        1.153036\n",
            "1        0.514219        0.221180\n",
            "2        0.255001       -0.458027\n",
            "3        0.816847        0.672721\n",
            "\n",
            "Using the index location method:\n",
            "   Random Value 2  Random Value 3\n",
            "0        0.342680        1.153036\n",
            "1        0.514219        0.221180\n",
            "2        0.255001       -0.458027\n",
            "3        0.816847        0.672721\n"
          ]
        }
      ]
    }
  ]
}