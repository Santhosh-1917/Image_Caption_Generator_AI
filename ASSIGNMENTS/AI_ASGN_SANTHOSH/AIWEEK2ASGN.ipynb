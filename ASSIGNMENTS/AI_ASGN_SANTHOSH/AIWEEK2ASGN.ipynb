{
  "nbformat": 4,
  "nbformat_minor": 0,
  "metadata": {
    "colab": {
      "provenance": []
    },
    "kernelspec": {
      "name": "python3",
      "display_name": "Python 3"
    },
    "language_info": {
      "name": "python"
    }
  },
  "cells": [
    {
      "cell_type": "code",
      "execution_count": null,
      "metadata": {
        "id": "nqNqTcCsrrw0"
      },
      "outputs": [],
      "source": [
        "import pandas as pd\n",
        "from sklearn.model_selection import train_test_split\n",
        "from sklearn.preprocessing import StandardScaler\n",
        "\n",
        "# Read the CSV file\n",
        "df = pd.read_csv('drug200.csv')"
      ]
    },
    {
      "cell_type": "code",
      "source": [
        "# Check for missing values\n",
        "print(df.isnull().sum())\n",
        "\n",
        "# Drop rows with missing values\n",
        "df = df.dropna()\n",
        "\n",
        "\n",
        "# Check for duplicates\n",
        "print(df.duplicated().sum())\n",
        "\n",
        "# Drop duplicates\n",
        "df = df.drop_duplicates()"
      ],
      "metadata": {
        "colab": {
          "base_uri": "https://localhost:8080/"
        },
        "id": "t9p09naBBArK",
        "outputId": "a02ae1b9-ab15-4d9b-8ecb-f06c4eda46be"
      },
      "execution_count": null,
      "outputs": [
        {
          "output_type": "stream",
          "name": "stdout",
          "text": [
            "Age            0\n",
            "Sex            0\n",
            "BP             0\n",
            "Cholesterol    0\n",
            "Na_to_K        0\n",
            "Drug           0\n",
            "dtype: int64\n",
            "0\n"
          ]
        }
      ]
    },
    {
      "cell_type": "code",
      "source": [
        "df.head()"
      ],
      "metadata": {
        "colab": {
          "base_uri": "https://localhost:8080/",
          "height": 206
        },
        "id": "_gFi4ljcDkO8",
        "outputId": "937994a9-2b92-49f2-e47d-e957d0b072b6"
      },
      "execution_count": null,
      "outputs": [
        {
          "output_type": "execute_result",
          "data": {
            "text/plain": [
              "   Age Sex      BP Cholesterol  Na_to_K   Drug\n",
              "0   23   F    HIGH        HIGH   25.355  DrugY\n",
              "1   47   M     LOW        HIGH   13.093  drugC\n",
              "2   47   M     LOW        HIGH   10.114  drugC\n",
              "3   28   F  NORMAL        HIGH    7.798  drugX\n",
              "4   61   F     LOW        HIGH   18.043  DrugY"
            ],
            "text/html": [
              "\n",
              "  <div id=\"df-05766df7-33e6-4925-a74e-9b13a1fa745f\">\n",
              "    <div class=\"colab-df-container\">\n",
              "      <div>\n",
              "<style scoped>\n",
              "    .dataframe tbody tr th:only-of-type {\n",
              "        vertical-align: middle;\n",
              "    }\n",
              "\n",
              "    .dataframe tbody tr th {\n",
              "        vertical-align: top;\n",
              "    }\n",
              "\n",
              "    .dataframe thead th {\n",
              "        text-align: right;\n",
              "    }\n",
              "</style>\n",
              "<table border=\"1\" class=\"dataframe\">\n",
              "  <thead>\n",
              "    <tr style=\"text-align: right;\">\n",
              "      <th></th>\n",
              "      <th>Age</th>\n",
              "      <th>Sex</th>\n",
              "      <th>BP</th>\n",
              "      <th>Cholesterol</th>\n",
              "      <th>Na_to_K</th>\n",
              "      <th>Drug</th>\n",
              "    </tr>\n",
              "  </thead>\n",
              "  <tbody>\n",
              "    <tr>\n",
              "      <th>0</th>\n",
              "      <td>23</td>\n",
              "      <td>F</td>\n",
              "      <td>HIGH</td>\n",
              "      <td>HIGH</td>\n",
              "      <td>25.355</td>\n",
              "      <td>DrugY</td>\n",
              "    </tr>\n",
              "    <tr>\n",
              "      <th>1</th>\n",
              "      <td>47</td>\n",
              "      <td>M</td>\n",
              "      <td>LOW</td>\n",
              "      <td>HIGH</td>\n",
              "      <td>13.093</td>\n",
              "      <td>drugC</td>\n",
              "    </tr>\n",
              "    <tr>\n",
              "      <th>2</th>\n",
              "      <td>47</td>\n",
              "      <td>M</td>\n",
              "      <td>LOW</td>\n",
              "      <td>HIGH</td>\n",
              "      <td>10.114</td>\n",
              "      <td>drugC</td>\n",
              "    </tr>\n",
              "    <tr>\n",
              "      <th>3</th>\n",
              "      <td>28</td>\n",
              "      <td>F</td>\n",
              "      <td>NORMAL</td>\n",
              "      <td>HIGH</td>\n",
              "      <td>7.798</td>\n",
              "      <td>drugX</td>\n",
              "    </tr>\n",
              "    <tr>\n",
              "      <th>4</th>\n",
              "      <td>61</td>\n",
              "      <td>F</td>\n",
              "      <td>LOW</td>\n",
              "      <td>HIGH</td>\n",
              "      <td>18.043</td>\n",
              "      <td>DrugY</td>\n",
              "    </tr>\n",
              "  </tbody>\n",
              "</table>\n",
              "</div>\n",
              "      <button class=\"colab-df-convert\" onclick=\"convertToInteractive('df-05766df7-33e6-4925-a74e-9b13a1fa745f')\"\n",
              "              title=\"Convert this dataframe to an interactive table.\"\n",
              "              style=\"display:none;\">\n",
              "        \n",
              "  <svg xmlns=\"http://www.w3.org/2000/svg\" height=\"24px\"viewBox=\"0 0 24 24\"\n",
              "       width=\"24px\">\n",
              "    <path d=\"M0 0h24v24H0V0z\" fill=\"none\"/>\n",
              "    <path d=\"M18.56 5.44l.94 2.06.94-2.06 2.06-.94-2.06-.94-.94-2.06-.94 2.06-2.06.94zm-11 1L8.5 8.5l.94-2.06 2.06-.94-2.06-.94L8.5 2.5l-.94 2.06-2.06.94zm10 10l.94 2.06.94-2.06 2.06-.94-2.06-.94-.94-2.06-.94 2.06-2.06.94z\"/><path d=\"M17.41 7.96l-1.37-1.37c-.4-.4-.92-.59-1.43-.59-.52 0-1.04.2-1.43.59L10.3 9.45l-7.72 7.72c-.78.78-.78 2.05 0 2.83L4 21.41c.39.39.9.59 1.41.59.51 0 1.02-.2 1.41-.59l7.78-7.78 2.81-2.81c.8-.78.8-2.07 0-2.86zM5.41 20L4 18.59l7.72-7.72 1.47 1.35L5.41 20z\"/>\n",
              "  </svg>\n",
              "      </button>\n",
              "      \n",
              "  <style>\n",
              "    .colab-df-container {\n",
              "      display:flex;\n",
              "      flex-wrap:wrap;\n",
              "      gap: 12px;\n",
              "    }\n",
              "\n",
              "    .colab-df-convert {\n",
              "      background-color: #E8F0FE;\n",
              "      border: none;\n",
              "      border-radius: 50%;\n",
              "      cursor: pointer;\n",
              "      display: none;\n",
              "      fill: #1967D2;\n",
              "      height: 32px;\n",
              "      padding: 0 0 0 0;\n",
              "      width: 32px;\n",
              "    }\n",
              "\n",
              "    .colab-df-convert:hover {\n",
              "      background-color: #E2EBFA;\n",
              "      box-shadow: 0px 1px 2px rgba(60, 64, 67, 0.3), 0px 1px 3px 1px rgba(60, 64, 67, 0.15);\n",
              "      fill: #174EA6;\n",
              "    }\n",
              "\n",
              "    [theme=dark] .colab-df-convert {\n",
              "      background-color: #3B4455;\n",
              "      fill: #D2E3FC;\n",
              "    }\n",
              "\n",
              "    [theme=dark] .colab-df-convert:hover {\n",
              "      background-color: #434B5C;\n",
              "      box-shadow: 0px 1px 3px 1px rgba(0, 0, 0, 0.15);\n",
              "      filter: drop-shadow(0px 1px 2px rgba(0, 0, 0, 0.3));\n",
              "      fill: #FFFFFF;\n",
              "    }\n",
              "  </style>\n",
              "\n",
              "      <script>\n",
              "        const buttonEl =\n",
              "          document.querySelector('#df-05766df7-33e6-4925-a74e-9b13a1fa745f button.colab-df-convert');\n",
              "        buttonEl.style.display =\n",
              "          google.colab.kernel.accessAllowed ? 'block' : 'none';\n",
              "\n",
              "        async function convertToInteractive(key) {\n",
              "          const element = document.querySelector('#df-05766df7-33e6-4925-a74e-9b13a1fa745f');\n",
              "          const dataTable =\n",
              "            await google.colab.kernel.invokeFunction('convertToInteractive',\n",
              "                                                     [key], {});\n",
              "          if (!dataTable) return;\n",
              "\n",
              "          const docLinkHtml = 'Like what you see? Visit the ' +\n",
              "            '<a target=\"_blank\" href=https://colab.research.google.com/notebooks/data_table.ipynb>data table notebook</a>'\n",
              "            + ' to learn more about interactive tables.';\n",
              "          element.innerHTML = '';\n",
              "          dataTable['output_type'] = 'display_data';\n",
              "          await google.colab.output.renderOutput(dataTable, element);\n",
              "          const docLink = document.createElement('div');\n",
              "          docLink.innerHTML = docLinkHtml;\n",
              "          element.appendChild(docLink);\n",
              "        }\n",
              "      </script>\n",
              "    </div>\n",
              "  </div>\n",
              "  "
            ]
          },
          "metadata": {},
          "execution_count": 17
        }
      ]
    },
    {
      "cell_type": "code",
      "source": [
        "X = df.iloc[:, 1:6]\n",
        "Y = df['Age']\n",
        "X_train, X_test, Y_train, Y_test = train_test_split(X, Y, test_size = 0.2, random_state =0)\n",
        "\n"
      ],
      "metadata": {
        "id": "n_tXXRoO9Rpw"
      },
      "execution_count": null,
      "outputs": []
    },
    {
      "cell_type": "code",
      "source": [
        "X_train.shape"
      ],
      "metadata": {
        "colab": {
          "base_uri": "https://localhost:8080/"
        },
        "id": "bG2FVaKGMJK7",
        "outputId": "1d7f4127-5af0-4c1a-ffe9-de31ce159aa9"
      },
      "execution_count": null,
      "outputs": [
        {
          "output_type": "execute_result",
          "data": {
            "text/plain": [
              "(160, 5)"
            ]
          },
          "metadata": {},
          "execution_count": 74
        }
      ]
    },
    {
      "cell_type": "code",
      "source": [
        "X_test.shape"
      ],
      "metadata": {
        "colab": {
          "base_uri": "https://localhost:8080/"
        },
        "id": "TLbKMdQiMX3C",
        "outputId": "bf3d7b51-b56e-4daa-80b4-3645f872c4b0"
      },
      "execution_count": null,
      "outputs": [
        {
          "output_type": "execute_result",
          "data": {
            "text/plain": [
              "(40, 5)"
            ]
          },
          "metadata": {},
          "execution_count": 75
        }
      ]
    },
    {
      "cell_type": "code",
      "source": [
        "Y_train.shape,Y_test.shape"
      ],
      "metadata": {
        "colab": {
          "base_uri": "https://localhost:8080/"
        },
        "id": "El7xWcwzMKve",
        "outputId": "0fcff33a-6048-4974-9da1-bb9815f2f029"
      },
      "execution_count": null,
      "outputs": [
        {
          "output_type": "execute_result",
          "data": {
            "text/plain": [
              "((160,), (40,))"
            ]
          },
          "metadata": {},
          "execution_count": 77
        }
      ]
    },
    {
      "cell_type": "code",
      "source": [
        "from sklearn.preprocessing import LabelEncoder\n",
        "     \n",
        "\n",
        "le = LabelEncoder() # initialize the lib\n",
        "     "
      ],
      "metadata": {
        "id": "xJtxDRwhMwOL"
      },
      "execution_count": null,
      "outputs": []
    },
    {
      "cell_type": "code",
      "source": [
        "X_train['Sex'] = le.fit_transform(X_train['Sex'])\n",
        "X_train['BP'] = le.fit_transform(X_train['BP'])\n",
        "X_train['Cholesterol'] = le.fit_transform(X_train['Cholesterol'])\n",
        "X_train['Drug'] = le.fit_transform(X_train['Drug'])"
      ],
      "metadata": {
        "id": "mv0jlrmuMxjH"
      },
      "execution_count": null,
      "outputs": []
    },
    {
      "cell_type": "code",
      "source": [
        "from tensorflow.keras.models import Sequential\n",
        "from tensorflow.keras.layers import Dense"
      ],
      "metadata": {
        "id": "duej7YRKBfeY"
      },
      "execution_count": null,
      "outputs": []
    },
    {
      "cell_type": "code",
      "source": [
        "# Initializing the seq model\n",
        "reg_model = Sequential()\n",
        "\n",
        "# Adding the input layer to the model\n",
        "reg_model.add(Dense(32,activation='relu'))\n",
        "\n",
        "# Adding the 2nd hidden layer to the model\n",
        "reg_model.add(Dense(16,activation='relu'))\n",
        "\n",
        "# Adding the 3rd hidden layer to the model\n",
        "reg_model.add(Dense(8,activation='relu'))\n",
        "\n",
        "\n",
        "# Adding output layer\n",
        "reg_model.add(Dense(1,activation='sigmoid'))"
      ],
      "metadata": {
        "id": "uE-eDf4VBejq"
      },
      "execution_count": null,
      "outputs": []
    },
    {
      "cell_type": "code",
      "source": [
        "# Compile the model\n",
        "reg_model.compile(optimizer='adam', loss='binary_crossentropy', metrics=['accuracy'])\n"
      ],
      "metadata": {
        "id": "gfi2MIOzJCw1"
      },
      "execution_count": null,
      "outputs": []
    },
    {
      "cell_type": "code",
      "source": [
        "\n",
        "# Train the model\n",
        "reg_model.fit(X_train, Y_train, epochs=20, batch_size=5)"
      ],
      "metadata": {
        "colab": {
          "base_uri": "https://localhost:8080/"
        },
        "id": "8xr4z8I-GaFm",
        "outputId": "79d81077-0172-40b5-92b5-ddb8050cd578"
      },
      "execution_count": null,
      "outputs": [
        {
          "output_type": "stream",
          "name": "stdout",
          "text": [
            "Epoch 1/20\n",
            "32/32 [==============================] - 1s 2ms/step - loss: -150575040.0000 - accuracy: 0.0000e+00\n",
            "Epoch 2/20\n",
            "32/32 [==============================] - 0s 2ms/step - loss: -157395808.0000 - accuracy: 0.0000e+00\n",
            "Epoch 3/20\n",
            "32/32 [==============================] - 0s 2ms/step - loss: -164456352.0000 - accuracy: 0.0000e+00\n",
            "Epoch 4/20\n",
            "32/32 [==============================] - 0s 2ms/step - loss: -171690224.0000 - accuracy: 0.0000e+00\n",
            "Epoch 5/20\n",
            "32/32 [==============================] - 0s 2ms/step - loss: -179094864.0000 - accuracy: 0.0000e+00\n",
            "Epoch 6/20\n",
            "32/32 [==============================] - 0s 2ms/step - loss: -186730560.0000 - accuracy: 0.0000e+00\n",
            "Epoch 7/20\n",
            "32/32 [==============================] - 0s 3ms/step - loss: -194593088.0000 - accuracy: 0.0000e+00\n",
            "Epoch 8/20\n",
            "32/32 [==============================] - 0s 2ms/step - loss: -202610528.0000 - accuracy: 0.0000e+00\n",
            "Epoch 9/20\n",
            "32/32 [==============================] - 0s 3ms/step - loss: -210867424.0000 - accuracy: 0.0000e+00\n",
            "Epoch 10/20\n",
            "32/32 [==============================] - 0s 2ms/step - loss: -219351328.0000 - accuracy: 0.0000e+00\n",
            "Epoch 11/20\n",
            "32/32 [==============================] - 0s 3ms/step - loss: -228078640.0000 - accuracy: 0.0000e+00\n",
            "Epoch 12/20\n",
            "32/32 [==============================] - 0s 2ms/step - loss: -236864592.0000 - accuracy: 0.0000e+00\n",
            "Epoch 13/20\n",
            "32/32 [==============================] - 0s 2ms/step - loss: -246067424.0000 - accuracy: 0.0000e+00\n",
            "Epoch 14/20\n",
            "32/32 [==============================] - 0s 2ms/step - loss: -255431168.0000 - accuracy: 0.0000e+00\n",
            "Epoch 15/20\n",
            "32/32 [==============================] - 0s 3ms/step - loss: -265046240.0000 - accuracy: 0.0000e+00\n",
            "Epoch 16/20\n",
            "32/32 [==============================] - 0s 3ms/step - loss: -274819520.0000 - accuracy: 0.0000e+00\n",
            "Epoch 17/20\n",
            "32/32 [==============================] - 0s 3ms/step - loss: -284902016.0000 - accuracy: 0.0000e+00\n",
            "Epoch 18/20\n",
            "32/32 [==============================] - 0s 3ms/step - loss: -295068576.0000 - accuracy: 0.0000e+00\n",
            "Epoch 19/20\n",
            "32/32 [==============================] - 0s 2ms/step - loss: -305745056.0000 - accuracy: 0.0000e+00\n",
            "Epoch 20/20\n",
            "32/32 [==============================] - 0s 2ms/step - loss: -316396032.0000 - accuracy: 0.0000e+00\n"
          ]
        },
        {
          "output_type": "execute_result",
          "data": {
            "text/plain": [
              "<keras.callbacks.History at 0x7f82ac7adf00>"
            ]
          },
          "metadata": {},
          "execution_count": 90
        }
      ]
    },
    {
      "cell_type": "code",
      "source": [
        "# Testing the model\n",
        "\n",
        "reg_model.predict([[67,26,65,12,9]])"
      ],
      "metadata": {
        "colab": {
          "base_uri": "https://localhost:8080/"
        },
        "id": "PNhu1CBCOLm7",
        "outputId": "64c7d916-f30f-4c90-e5ac-d956e25428d5"
      },
      "execution_count": 95,
      "outputs": [
        {
          "output_type": "stream",
          "name": "stdout",
          "text": [
            "1/1 [==============================] - 0s 49ms/step\n"
          ]
        },
        {
          "output_type": "execute_result",
          "data": {
            "text/plain": [
              "array([[1.]], dtype=float32)"
            ]
          },
          "metadata": {},
          "execution_count": 95
        }
      ]
    }
  ]
}