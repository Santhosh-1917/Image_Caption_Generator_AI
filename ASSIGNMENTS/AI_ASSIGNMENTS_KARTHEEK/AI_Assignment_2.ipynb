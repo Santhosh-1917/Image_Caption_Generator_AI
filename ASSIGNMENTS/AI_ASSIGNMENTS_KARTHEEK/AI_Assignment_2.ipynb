{
  "nbformat": 4,
  "nbformat_minor": 0,
  "metadata": {
    "colab": {
      "provenance": []
    },
    "kernelspec": {
      "name": "python3",
      "display_name": "Python 3"
    },
    "language_info": {
      "name": "python"
    }
  },
  "cells": [
    {
      "cell_type": "code",
      "source": [
        "# Performing Data Pre-processing.\n",
        "import pandas as pd\n",
        "from sklearn.preprocessing import LabelEncoder, StandardScaler\n",
        "\n",
        "# Load the dataset\n",
        "data = pd.read_csv(\"drug200.csv\")\n",
        "\n",
        "# Drop any missing values (if any)\n",
        "data.dropna(inplace=True)\n",
        "\n",
        "# Encode categorical variables\n",
        "le = LabelEncoder()\n",
        "data['Sex'] = le.fit_transform(data['Sex'])\n",
        "data['BP'] = le.fit_transform(data['BP'])\n",
        "data['Cholesterol'] = le.fit_transform(data['Cholesterol'])\n",
        "data['Drug'] = le.fit_transform(data['Drug'])\n",
        "\n",
        "# Split the data into features (X) and labels (y)\n",
        "X = data.drop('Drug', axis=1)\n",
        "y = data['Drug']\n",
        "\n",
        "# Standardize the feature data\n",
        "scaler = StandardScaler()\n",
        "X = scaler.fit_transform(X)\n"
      ],
      "metadata": {
        "id": "oA7ma6cR20rj"
      },
      "execution_count": null,
      "outputs": []
    },
    {
      "cell_type": "code",
      "source": [
        "# Building a ANN model.\n",
        "import tensorflow as tf\n",
        "from tensorflow.keras.models import Sequential\n",
        "from tensorflow.keras.layers import Dense\n",
        "\n",
        "# Define the number of features\n",
        "input_dim = X.shape[1]\n",
        "\n",
        "# Build the ANN model\n",
        "model = Sequential()\n",
        "\n",
        "# Add the input layer\n",
        "model.add(Dense(units=64, activation='relu', input_dim=input_dim))\n",
        "\n",
        "# Add the hidden layers\n",
        "model.add(Dense(units=128, activation='relu'))\n",
        "model.add(Dense(units=128, activation='relu'))\n",
        "model.add(Dense(units=64, activation='relu'))\n",
        "\n",
        "# Add the output layer\n",
        "model.add(Dense(units=5, activation='softmax'))\n",
        "\n",
        "# Compile the model\n",
        "model.compile(optimizer='adam', loss='sparse_categorical_crossentropy', metrics=['accuracy'])\n",
        "\n",
        "# Print the model summary\n",
        "model.summary()"
      ],
      "metadata": {
        "colab": {
          "base_uri": "https://localhost:8080/"
        },
        "id": "4iKPyVUq5n0j",
        "outputId": "ab5bccd7-e47b-4793-c75a-a40b69347a4f"
      },
      "execution_count": null,
      "outputs": [
        {
          "output_type": "stream",
          "name": "stdout",
          "text": [
            "Model: \"sequential\"\n",
            "_________________________________________________________________\n",
            " Layer (type)                Output Shape              Param #   \n",
            "=================================================================\n",
            " dense (Dense)               (None, 64)                384       \n",
            "                                                                 \n",
            " dense_1 (Dense)             (None, 128)               8320      \n",
            "                                                                 \n",
            " dense_2 (Dense)             (None, 128)               16512     \n",
            "                                                                 \n",
            " dense_3 (Dense)             (None, 64)                8256      \n",
            "                                                                 \n",
            " dense_4 (Dense)             (None, 5)                 325       \n",
            "                                                                 \n",
            "=================================================================\n",
            "Total params: 33,797\n",
            "Trainable params: 33,797\n",
            "Non-trainable params: 0\n",
            "_________________________________________________________________\n"
          ]
        }
      ]
    },
    {
      "cell_type": "code",
      "source": [
        "# Testing the model with a random Data.\n",
        "import numpy as np\n",
        "\n",
        "# Generate random data for testing\n",
        "random_data = np.random.randn(1, input_dim)  # Replace 1 with the number of samples you want to test\n",
        "\n",
        "# Make predictions using the trained model\n",
        "predictions = model.predict(random_data)\n",
        "\n",
        "# Convert predictions to drug labels\n",
        "predicted_drug = le.inverse_transform(np.argmax(predictions, axis=1))\n",
        "\n",
        "print(\"Random Data:\", random_data)\n",
        "print(\"Predicted Drug:\", predicted_drug)\n"
      ],
      "metadata": {
        "colab": {
          "base_uri": "https://localhost:8080/"
        },
        "id": "CQmqT35V6ZGf",
        "outputId": "ef0aab6d-df3e-4088-f427-6c0aa2f5b678"
      },
      "execution_count": null,
      "outputs": [
        {
          "output_type": "stream",
          "name": "stdout",
          "text": [
            "1/1 [==============================] - 1s 570ms/step\n",
            "Random Data: [[ 0.42193999  1.39690097  0.07510441 -1.06470447 -0.19961788]]\n",
            "Predicted Drug: ['DrugY']\n"
          ]
        }
      ]
    }
  ]
}