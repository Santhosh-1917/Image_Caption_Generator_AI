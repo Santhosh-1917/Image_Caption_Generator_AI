{
 "cells": [
  {
   "attachments": {},
   "cell_type": "markdown",
   "metadata": {},
   "source": []
  },
  {
   "attachments": {},
   "cell_type": "markdown",
   "metadata": {},
   "source": [
    "TATHAGATA BISWAS, 20BCE1844, VIT - CHENNAI"
   ]
  },
  {
   "cell_type": "code",
   "execution_count": 28,
   "metadata": {},
   "outputs": [],
   "source": [
    "# Data Augmentation\n",
    "\n",
    "from tensorflow.keras.preprocessing.image import ImageDataGenerator"
   ]
  },
  {
   "cell_type": "code",
   "execution_count": 29,
   "metadata": {},
   "outputs": [],
   "source": [
    "train_gen = ImageDataGenerator(rescale=(1./255),horizontal_flip=True,shear_range=0.2)\n",
    "test_gen = ImageDataGenerator(rescale=(1./255))  #--> (0 to 255) convert to (0 to 1)"
   ]
  },
  {
   "cell_type": "code",
   "execution_count": 30,
   "metadata": {},
   "outputs": [
    {
     "name": "stdout",
     "output_type": "stream",
     "text": [
      "Found 150 images belonging to 1 classes.\n",
      "Found 157 images belonging to 1 classes.\n"
     ]
    }
   ],
   "source": [
    "train = train_gen.flow_from_directory('ai3dataset/train_data',\n",
    "                                      target_size=(120, 120),\n",
    "                                      class_mode='categorical', \n",
    "                                      batch_size=8)\n",
    "test = test_gen.flow_from_directory('ai3dataset/test_data',\n",
    "                                    target_size=(120, 120),\n",
    "                                      class_mode='categorical', \n",
    "                                      batch_size=8)"
   ]
  },
  {
   "cell_type": "code",
   "execution_count": 31,
   "metadata": {},
   "outputs": [
    {
     "data": {
      "text/plain": [
       "{'train_data': 0}"
      ]
     },
     "execution_count": 31,
     "metadata": {},
     "output_type": "execute_result"
    }
   ],
   "source": [
    "train.class_indices"
   ]
  },
  {
   "cell_type": "code",
   "execution_count": 32,
   "metadata": {},
   "outputs": [],
   "source": [
    "# CNN\n",
    "\n",
    "from tensorflow.keras.layers import Convolution2D,MaxPooling2D,Flatten,Dense\n",
    "from tensorflow.keras.models import Sequential"
   ]
  },
  {
   "cell_type": "code",
   "execution_count": 33,
   "metadata": {},
   "outputs": [],
   "source": [
    "model = Sequential()\n",
    "model.add(Convolution2D(20,(3,3),activation='relu',input_shape=(120, 120, 3)))\n",
    "model.add(MaxPooling2D(pool_size=(2,2)))\n",
    "model.add(Flatten())\n",
    "model.add(Dense(45,activation='relu'))\n",
    "model.add(Dense(4,activation='softmax'))"
   ]
  },
  {
   "cell_type": "code",
   "execution_count": 34,
   "metadata": {},
   "outputs": [],
   "source": [
    "model.compile(optimizer='adam',loss='categorical_crossentropy',metrics=['accuracy'])"
   ]
  },
  {
   "cell_type": "code",
   "execution_count": 35,
   "metadata": {},
   "outputs": [
    {
     "name": "stdout",
     "output_type": "stream",
     "text": [
      "Epoch 1/5\n",
      "19/19 [==============================] - 170s 9s/step - loss: 76.0587 - accuracy: 0.4133 - val_loss: 179.5535 - val_accuracy: 0.4968\n",
      "Epoch 2/5\n",
      "19/19 [==============================] - 129s 7s/step - loss: 475.7998 - accuracy: 0.3467 - val_loss: 1017.4800 - val_accuracy: 1.0000\n",
      "Epoch 3/5\n",
      "19/19 [==============================] - 148s 8s/step - loss: 1877.2517 - accuracy: 0.5400 - val_loss: 2992.7556 - val_accuracy: 0.0000e+00\n",
      "Epoch 4/5\n",
      "19/19 [==============================] - 141s 8s/step - loss: 4029.4812 - accuracy: 0.4133 - val_loss: 5454.5132 - val_accuracy: 0.0000e+00\n",
      "Epoch 5/5\n",
      "19/19 [==============================] - 154s 8s/step - loss: 6757.9980 - accuracy: 0.3200 - val_loss: 8106.2666 - val_accuracy: 0.0000e+00\n"
     ]
    },
    {
     "data": {
      "text/plain": [
       "<keras.callbacks.History at 0x1d723fc1a90>"
      ]
     },
     "execution_count": 35,
     "metadata": {},
     "output_type": "execute_result"
    }
   ],
   "source": [
    "model.fit(train,batch_size=8,validation_data=test,epochs=5)"
   ]
  },
  {
   "cell_type": "code",
   "execution_count": 36,
   "metadata": {},
   "outputs": [],
   "source": [
    "model.save('model1.h5')"
   ]
  },
  {
   "cell_type": "code",
   "execution_count": 37,
   "metadata": {},
   "outputs": [],
   "source": [
    "# Testing\n",
    "\n",
    "import numpy as np\n",
    "from tensorflow.keras.preprocessing import image"
   ]
  },
  {
   "cell_type": "code",
   "execution_count": 38,
   "metadata": {},
   "outputs": [
    {
     "name": "stdout",
     "output_type": "stream",
     "text": [
      "1/1 [==============================] - 0s 485ms/step\n",
      "1\n",
      "bonegi\n"
     ]
    }
   ],
   "source": [
    "# Testing \n",
    "img1 = image.load_img('ai3dataset/test_data/test_data/indvul/_DSC8754.jpg',target_size=(120,120))\n",
    "img1 = image.img_to_array(img1)\n",
    "img1 = np.expand_dims(img1,axis=0)\n",
    "pred = np.argmax(model.predict(img1))\n",
    "print(pred)\n",
    "output = ['blasti', 'bonegi', 'indvul', 'mgprob']\n",
    "print(output[pred])\n",
    "     "
   ]
  },
  {
   "attachments": {},
   "cell_type": "markdown",
   "metadata": {},
   "source": [
    "Model tuning (Adding feature extraction layers)"
   ]
  },
  {
   "cell_type": "code",
   "execution_count": 39,
   "metadata": {},
   "outputs": [],
   "source": [
    "model = Sequential()\n",
    "model.add(Convolution2D(12,(3,3),activation='relu',input_shape=(120, 120, 3)))\n",
    "model.add(MaxPooling2D(pool_size=(2,2)))\n",
    "model.add(Convolution2D(24,(3,3),activation='relu'))\n",
    "model.add(MaxPooling2D(pool_size=(2,2)))\n",
    "model.add(Convolution2D(36,(3,3),activation='relu'))\n",
    "model.add(MaxPooling2D(pool_size=(2,2)))\n",
    "model.add(Flatten())\n",
    "model.add(Dense(62,activation='relu'))\n",
    "model.add(Dense(32,activation='relu'))\n",
    "model.add(Dense(16,activation='relu'))\n",
    "model.add(Dense(4,activation='softmax'))"
   ]
  },
  {
   "cell_type": "code",
   "execution_count": 40,
   "metadata": {},
   "outputs": [
    {
     "name": "stdout",
     "output_type": "stream",
     "text": [
      "Model: \"sequential_3\"\n",
      "_________________________________________________________________\n",
      " Layer (type)                Output Shape              Param #   \n",
      "=================================================================\n",
      " conv2d_5 (Conv2D)           (None, 118, 118, 12)      336       \n",
      "                                                                 \n",
      " max_pooling2d_5 (MaxPooling  (None, 59, 59, 12)       0         \n",
      " 2D)                                                             \n",
      "                                                                 \n",
      " conv2d_6 (Conv2D)           (None, 57, 57, 24)        2616      \n",
      "                                                                 \n",
      " max_pooling2d_6 (MaxPooling  (None, 28, 28, 24)       0         \n",
      " 2D)                                                             \n",
      "                                                                 \n",
      " conv2d_7 (Conv2D)           (None, 26, 26, 36)        7812      \n",
      "                                                                 \n",
      " max_pooling2d_7 (MaxPooling  (None, 13, 13, 36)       0         \n",
      " 2D)                                                             \n",
      "                                                                 \n",
      " flatten_3 (Flatten)         (None, 6084)              0         \n",
      "                                                                 \n",
      " dense_8 (Dense)             (None, 62)                377270    \n",
      "                                                                 \n",
      " dense_9 (Dense)             (None, 32)                2016      \n",
      "                                                                 \n",
      " dense_10 (Dense)            (None, 16)                528       \n",
      "                                                                 \n",
      " dense_11 (Dense)            (None, 4)                 68        \n",
      "                                                                 \n",
      "=================================================================\n",
      "Total params: 390,646\n",
      "Trainable params: 390,646\n",
      "Non-trainable params: 0\n",
      "_________________________________________________________________\n"
     ]
    }
   ],
   "source": [
    "model.summary()"
   ]
  },
  {
   "cell_type": "code",
   "execution_count": 41,
   "metadata": {},
   "outputs": [],
   "source": [
    "model.compile(optimizer='adam',loss='categorical_crossentropy',metrics=['accuracy'])"
   ]
  },
  {
   "cell_type": "code",
   "execution_count": 42,
   "metadata": {},
   "outputs": [
    {
     "name": "stdout",
     "output_type": "stream",
     "text": [
      "Epoch 1/5\n",
      "19/19 [==============================] - 64s 3s/step - loss: 119.8592 - accuracy: 0.0000e+00 - val_loss: 482.3438 - val_accuracy: 0.0000e+00\n",
      "Epoch 2/5\n",
      "19/19 [==============================] - 54s 3s/step - loss: 2511.9885 - accuracy: 0.0000e+00 - val_loss: 7629.6968 - val_accuracy: 0.0000e+00\n",
      "Epoch 3/5\n",
      "19/19 [==============================] - 47s 3s/step - loss: 24089.6973 - accuracy: 0.0000e+00 - val_loss: 67504.4609 - val_accuracy: 0.0000e+00\n",
      "Epoch 4/5\n",
      "19/19 [==============================] - 44s 2s/step - loss: 191104.6094 - accuracy: 0.0000e+00 - val_loss: 444951.0312 - val_accuracy: 0.0000e+00\n",
      "Epoch 5/5\n",
      "19/19 [==============================] - 50s 3s/step - loss: 931867.5000 - accuracy: 0.0000e+00 - val_loss: 1659205.1250 - val_accuracy: 0.0000e+00\n"
     ]
    },
    {
     "data": {
      "text/plain": [
       "<keras.callbacks.History at 0x1d72b928e10>"
      ]
     },
     "execution_count": 42,
     "metadata": {},
     "output_type": "execute_result"
    }
   ],
   "source": [
    "model.fit(train,batch_size=8,validation_data=test,epochs=5)"
   ]
  },
  {
   "cell_type": "code",
   "execution_count": 43,
   "metadata": {},
   "outputs": [
    {
     "name": "stdout",
     "output_type": "stream",
     "text": [
      "1/1 [==============================] - 0s 158ms/step\n",
      "3\n",
      "mgprob\n"
     ]
    }
   ],
   "source": [
    "# Testing \n",
    "img1 = image.load_img('ai3dataset/test_data/test_data/indvul/_DSC8754.jpg',target_size=(120,120))\n",
    "img1 = image.img_to_array(img1)\n",
    "img1 = np.expand_dims(img1,axis=0)\n",
    "pred = np.argmax(model.predict(img1))\n",
    "print(pred)\n",
    "output = ['blasti', 'bonegi', 'indvul', 'mgprob']\n",
    "print(output[pred])"
   ]
  },
  {
   "attachments": {},
   "cell_type": "markdown",
   "metadata": {},
   "source": [
    "Model tuning (with dropout, batch normalization & early stopping)"
   ]
  },
  {
   "cell_type": "code",
   "execution_count": 44,
   "metadata": {},
   "outputs": [],
   "source": [
    "from tensorflow.keras.layers import BatchNormalization, Dropout"
   ]
  },
  {
   "cell_type": "code",
   "execution_count": 45,
   "metadata": {},
   "outputs": [],
   "source": [
    "# Initializing the seq model\n",
    "model = Sequential()\n",
    "# Adding conv layer with input\n",
    "model.add(Convolution2D(12,(3,3),activation='relu',input_shape=(120, 120, 3)))\n",
    "# Normalizing the conv layer output\n",
    "model.add(BatchNormalization())\n",
    "# Selecting the max values\n",
    "model.add(MaxPooling2D(pool_size=(2,2)))\n",
    "# Dropping the unwanted 20% of data\n",
    "model.add(Dropout(0.2))\n",
    "model.add(Convolution2D(24,(3,3),activation='relu'))\n",
    "model.add(BatchNormalization())\n",
    "model.add(MaxPooling2D(pool_size=(2,2)))\n",
    "model.add(Dropout(0.2))\n",
    "model.add(Convolution2D(36,(3,3),activation='relu'))\n",
    "model.add(BatchNormalization())\n",
    "model.add(MaxPooling2D(pool_size=(2,2)))\n",
    "model.add(Dropout(0.2))\n",
    "model.add(Flatten())\n",
    "# Hiddern layers\n",
    "model.add(Dense(62,activation='relu'))\n",
    "model.add(BatchNormalization())\n",
    "model.add(Dropout(0.1))\n",
    "model.add(Dense(32,activation='relu'))\n",
    "model.add(Dense(16,activation='relu'))\n",
    "# Output layer\n",
    "model.add(Dense(4,activation='softmax'))\n",
    "     "
   ]
  },
  {
   "cell_type": "code",
   "execution_count": 46,
   "metadata": {},
   "outputs": [
    {
     "name": "stdout",
     "output_type": "stream",
     "text": [
      "Model: \"sequential_4\"\n",
      "_________________________________________________________________\n",
      " Layer (type)                Output Shape              Param #   \n",
      "=================================================================\n",
      " conv2d_8 (Conv2D)           (None, 118, 118, 12)      336       \n",
      "                                                                 \n",
      " batch_normalization (BatchN  (None, 118, 118, 12)     48        \n",
      " ormalization)                                                   \n",
      "                                                                 \n",
      " max_pooling2d_8 (MaxPooling  (None, 59, 59, 12)       0         \n",
      " 2D)                                                             \n",
      "                                                                 \n",
      " dropout (Dropout)           (None, 59, 59, 12)        0         \n",
      "                                                                 \n",
      " conv2d_9 (Conv2D)           (None, 57, 57, 24)        2616      \n",
      "                                                                 \n",
      " batch_normalization_1 (Batc  (None, 57, 57, 24)       96        \n",
      " hNormalization)                                                 \n",
      "                                                                 \n",
      " max_pooling2d_9 (MaxPooling  (None, 28, 28, 24)       0         \n",
      " 2D)                                                             \n",
      "                                                                 \n",
      " dropout_1 (Dropout)         (None, 28, 28, 24)        0         \n",
      "                                                                 \n",
      " conv2d_10 (Conv2D)          (None, 26, 26, 36)        7812      \n",
      "                                                                 \n",
      " batch_normalization_2 (Batc  (None, 26, 26, 36)       144       \n",
      " hNormalization)                                                 \n",
      "                                                                 \n",
      " max_pooling2d_10 (MaxPoolin  (None, 13, 13, 36)       0         \n",
      " g2D)                                                            \n",
      "                                                                 \n",
      " dropout_2 (Dropout)         (None, 13, 13, 36)        0         \n",
      "                                                                 \n",
      " flatten_4 (Flatten)         (None, 6084)              0         \n",
      "                                                                 \n",
      " dense_12 (Dense)            (None, 62)                377270    \n",
      "                                                                 \n",
      " batch_normalization_3 (Batc  (None, 62)               248       \n",
      " hNormalization)                                                 \n",
      "                                                                 \n",
      " dropout_3 (Dropout)         (None, 62)                0         \n",
      "                                                                 \n",
      " dense_13 (Dense)            (None, 32)                2016      \n",
      "                                                                 \n",
      " dense_14 (Dense)            (None, 16)                528       \n",
      "                                                                 \n",
      " dense_15 (Dense)            (None, 4)                 68        \n",
      "                                                                 \n",
      "=================================================================\n",
      "Total params: 391,182\n",
      "Trainable params: 390,914\n",
      "Non-trainable params: 268\n",
      "_________________________________________________________________\n"
     ]
    }
   ],
   "source": [
    "model.summary()"
   ]
  },
  {
   "cell_type": "code",
   "execution_count": 47,
   "metadata": {},
   "outputs": [],
   "source": [
    "model.compile(optimizer='adam',loss='categorical_crossentropy',metrics=['accuracy'])"
   ]
  },
  {
   "cell_type": "code",
   "execution_count": 48,
   "metadata": {},
   "outputs": [],
   "source": [
    "# Early stopping\n",
    "from tensorflow.keras.callbacks import EarlyStopping"
   ]
  },
  {
   "cell_type": "code",
   "execution_count": 49,
   "metadata": {},
   "outputs": [],
   "source": [
    "early_stop = EarlyStopping(monitor='accuracy',patience=8)"
   ]
  },
  {
   "cell_type": "code",
   "execution_count": 50,
   "metadata": {},
   "outputs": [
    {
     "name": "stdout",
     "output_type": "stream",
     "text": [
      "Epoch 1/5\n",
      "19/19 [==============================] - 63s 3s/step - loss: 6.4414 - accuracy: 0.7133 - val_loss: 5.6209 - val_accuracy: 0.9873\n",
      "Epoch 2/5\n",
      "19/19 [==============================] - 53s 3s/step - loss: 6.9369 - accuracy: 0.9400 - val_loss: 5.7306 - val_accuracy: 1.0000\n",
      "Epoch 3/5\n",
      "19/19 [==============================] - 54s 3s/step - loss: 7.9288 - accuracy: 0.9667 - val_loss: 6.7436 - val_accuracy: 1.0000\n",
      "Epoch 4/5\n",
      "19/19 [==============================] - 43s 2s/step - loss: 9.3900 - accuracy: 0.9333 - val_loss: 9.2624 - val_accuracy: 1.0000\n",
      "Epoch 5/5\n",
      "19/19 [==============================] - 49s 3s/step - loss: 11.9990 - accuracy: 0.9467 - val_loss: 14.0962 - val_accuracy: 0.9745\n"
     ]
    },
    {
     "data": {
      "text/plain": [
       "<keras.callbacks.History at 0x1d72e1d1090>"
      ]
     },
     "execution_count": 50,
     "metadata": {},
     "output_type": "execute_result"
    }
   ],
   "source": [
    "model.fit(train,batch_size=8,validation_data=test,epochs=5,callbacks=early_stop)"
   ]
  },
  {
   "cell_type": "code",
   "execution_count": 52,
   "metadata": {},
   "outputs": [
    {
     "name": "stdout",
     "output_type": "stream",
     "text": [
      "1/1 [==============================] - 0s 16ms/step\n",
      "3\n",
      "mgprob\n"
     ]
    }
   ],
   "source": [
    "# Testing \n",
    "img1 = image.load_img('ai3dataset/test_data/test_data/indvul/_DSC8754.jpg',target_size=(120,120))\n",
    "img1 = image.img_to_array(img1)\n",
    "img1 = np.expand_dims(img1,axis=0)\n",
    "pred = np.argmax(model.predict(img1))\n",
    "print(pred)\n",
    "output = ['blasti', 'bonegi', 'indvul', 'mgprob']\n",
    "print(output[pred])"
   ]
  }
 ],
 "metadata": {
  "kernelspec": {
   "display_name": "Python 3",
   "language": "python",
   "name": "python3"
  },
  "language_info": {
   "codemirror_mode": {
    "name": "ipython",
    "version": 3
   },
   "file_extension": ".py",
   "mimetype": "text/x-python",
   "name": "python",
   "nbconvert_exporter": "python",
   "pygments_lexer": "ipython3",
   "version": "3.11.4"
  },
  "orig_nbformat": 4
 },
 "nbformat": 4,
 "nbformat_minor": 2
}
