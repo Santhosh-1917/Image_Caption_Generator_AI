{
  "nbformat": 4,
  "nbformat_minor": 0,
  "metadata": {
    "colab": {
      "provenance": []
    },
    "kernelspec": {
      "name": "python3",
      "display_name": "Python 3"
    },
    "language_info": {
      "name": "python"
    }
  },
  "cells": [
    {
      "cell_type": "markdown",
      "source": [
        "TATHAGATA BISWAS, 20BCE1844, \n",
        "VIT - CHENNAI, ASSIGNMENT 2"
      ],
      "metadata": {
        "id": "ylINgKlQBskz"
      }
    },
    {
      "cell_type": "markdown",
      "source": [
        "TASK 1"
      ],
      "metadata": {
        "id": "JBVYa2W04Rvt"
      }
    },
    {
      "cell_type": "code",
      "execution_count": 66,
      "metadata": {
        "id": "sG6n4GCRBcor"
      },
      "outputs": [],
      "source": [
        "#importing the required libraries\n",
        "\n",
        "import numpy as np\n",
        "import pandas as pd\n",
        "import tensorflow as tf\n",
        "from sklearn.model_selection import train_test_split\n",
        "from sklearn.preprocessing import StandardScaler"
      ]
    },
    {
      "cell_type": "code",
      "source": [
        "#Loading the dataset and data pre-processing\n",
        "\n",
        "dataset = pd.read_csv(\"drug200.csv\")\n",
        "\n",
        "dataset.head()"
      ],
      "metadata": {
        "id": "4BP_Rz1zDRma",
        "colab": {
          "base_uri": "https://localhost:8080/",
          "height": 206
        },
        "outputId": "3758d5b5-87be-4325-eb32-0423066ba21c"
      },
      "execution_count": 67,
      "outputs": [
        {
          "output_type": "execute_result",
          "data": {
            "text/plain": [
              "   Age Sex      BP Cholesterol  Na_to_K   Drug\n",
              "0   23   F    HIGH        HIGH   25.355  DrugY\n",
              "1   47   M     LOW        HIGH   13.093  drugC\n",
              "2   47   M     LOW        HIGH   10.114  drugC\n",
              "3   28   F  NORMAL        HIGH    7.798  drugX\n",
              "4   61   F     LOW        HIGH   18.043  DrugY"
            ],
            "text/html": [
              "\n",
              "  <div id=\"df-7ec47337-6e04-4a61-9663-3d7f1290e477\">\n",
              "    <div class=\"colab-df-container\">\n",
              "      <div>\n",
              "<style scoped>\n",
              "    .dataframe tbody tr th:only-of-type {\n",
              "        vertical-align: middle;\n",
              "    }\n",
              "\n",
              "    .dataframe tbody tr th {\n",
              "        vertical-align: top;\n",
              "    }\n",
              "\n",
              "    .dataframe thead th {\n",
              "        text-align: right;\n",
              "    }\n",
              "</style>\n",
              "<table border=\"1\" class=\"dataframe\">\n",
              "  <thead>\n",
              "    <tr style=\"text-align: right;\">\n",
              "      <th></th>\n",
              "      <th>Age</th>\n",
              "      <th>Sex</th>\n",
              "      <th>BP</th>\n",
              "      <th>Cholesterol</th>\n",
              "      <th>Na_to_K</th>\n",
              "      <th>Drug</th>\n",
              "    </tr>\n",
              "  </thead>\n",
              "  <tbody>\n",
              "    <tr>\n",
              "      <th>0</th>\n",
              "      <td>23</td>\n",
              "      <td>F</td>\n",
              "      <td>HIGH</td>\n",
              "      <td>HIGH</td>\n",
              "      <td>25.355</td>\n",
              "      <td>DrugY</td>\n",
              "    </tr>\n",
              "    <tr>\n",
              "      <th>1</th>\n",
              "      <td>47</td>\n",
              "      <td>M</td>\n",
              "      <td>LOW</td>\n",
              "      <td>HIGH</td>\n",
              "      <td>13.093</td>\n",
              "      <td>drugC</td>\n",
              "    </tr>\n",
              "    <tr>\n",
              "      <th>2</th>\n",
              "      <td>47</td>\n",
              "      <td>M</td>\n",
              "      <td>LOW</td>\n",
              "      <td>HIGH</td>\n",
              "      <td>10.114</td>\n",
              "      <td>drugC</td>\n",
              "    </tr>\n",
              "    <tr>\n",
              "      <th>3</th>\n",
              "      <td>28</td>\n",
              "      <td>F</td>\n",
              "      <td>NORMAL</td>\n",
              "      <td>HIGH</td>\n",
              "      <td>7.798</td>\n",
              "      <td>drugX</td>\n",
              "    </tr>\n",
              "    <tr>\n",
              "      <th>4</th>\n",
              "      <td>61</td>\n",
              "      <td>F</td>\n",
              "      <td>LOW</td>\n",
              "      <td>HIGH</td>\n",
              "      <td>18.043</td>\n",
              "      <td>DrugY</td>\n",
              "    </tr>\n",
              "  </tbody>\n",
              "</table>\n",
              "</div>\n",
              "      <button class=\"colab-df-convert\" onclick=\"convertToInteractive('df-7ec47337-6e04-4a61-9663-3d7f1290e477')\"\n",
              "              title=\"Convert this dataframe to an interactive table.\"\n",
              "              style=\"display:none;\">\n",
              "        \n",
              "  <svg xmlns=\"http://www.w3.org/2000/svg\" height=\"24px\"viewBox=\"0 0 24 24\"\n",
              "       width=\"24px\">\n",
              "    <path d=\"M0 0h24v24H0V0z\" fill=\"none\"/>\n",
              "    <path d=\"M18.56 5.44l.94 2.06.94-2.06 2.06-.94-2.06-.94-.94-2.06-.94 2.06-2.06.94zm-11 1L8.5 8.5l.94-2.06 2.06-.94-2.06-.94L8.5 2.5l-.94 2.06-2.06.94zm10 10l.94 2.06.94-2.06 2.06-.94-2.06-.94-.94-2.06-.94 2.06-2.06.94z\"/><path d=\"M17.41 7.96l-1.37-1.37c-.4-.4-.92-.59-1.43-.59-.52 0-1.04.2-1.43.59L10.3 9.45l-7.72 7.72c-.78.78-.78 2.05 0 2.83L4 21.41c.39.39.9.59 1.41.59.51 0 1.02-.2 1.41-.59l7.78-7.78 2.81-2.81c.8-.78.8-2.07 0-2.86zM5.41 20L4 18.59l7.72-7.72 1.47 1.35L5.41 20z\"/>\n",
              "  </svg>\n",
              "      </button>\n",
              "      \n",
              "  <style>\n",
              "    .colab-df-container {\n",
              "      display:flex;\n",
              "      flex-wrap:wrap;\n",
              "      gap: 12px;\n",
              "    }\n",
              "\n",
              "    .colab-df-convert {\n",
              "      background-color: #E8F0FE;\n",
              "      border: none;\n",
              "      border-radius: 50%;\n",
              "      cursor: pointer;\n",
              "      display: none;\n",
              "      fill: #1967D2;\n",
              "      height: 32px;\n",
              "      padding: 0 0 0 0;\n",
              "      width: 32px;\n",
              "    }\n",
              "\n",
              "    .colab-df-convert:hover {\n",
              "      background-color: #E2EBFA;\n",
              "      box-shadow: 0px 1px 2px rgba(60, 64, 67, 0.3), 0px 1px 3px 1px rgba(60, 64, 67, 0.15);\n",
              "      fill: #174EA6;\n",
              "    }\n",
              "\n",
              "    [theme=dark] .colab-df-convert {\n",
              "      background-color: #3B4455;\n",
              "      fill: #D2E3FC;\n",
              "    }\n",
              "\n",
              "    [theme=dark] .colab-df-convert:hover {\n",
              "      background-color: #434B5C;\n",
              "      box-shadow: 0px 1px 3px 1px rgba(0, 0, 0, 0.15);\n",
              "      filter: drop-shadow(0px 1px 2px rgba(0, 0, 0, 0.3));\n",
              "      fill: #FFFFFF;\n",
              "    }\n",
              "  </style>\n",
              "\n",
              "      <script>\n",
              "        const buttonEl =\n",
              "          document.querySelector('#df-7ec47337-6e04-4a61-9663-3d7f1290e477 button.colab-df-convert');\n",
              "        buttonEl.style.display =\n",
              "          google.colab.kernel.accessAllowed ? 'block' : 'none';\n",
              "\n",
              "        async function convertToInteractive(key) {\n",
              "          const element = document.querySelector('#df-7ec47337-6e04-4a61-9663-3d7f1290e477');\n",
              "          const dataTable =\n",
              "            await google.colab.kernel.invokeFunction('convertToInteractive',\n",
              "                                                     [key], {});\n",
              "          if (!dataTable) return;\n",
              "\n",
              "          const docLinkHtml = 'Like what you see? Visit the ' +\n",
              "            '<a target=\"_blank\" href=https://colab.research.google.com/notebooks/data_table.ipynb>data table notebook</a>'\n",
              "            + ' to learn more about interactive tables.';\n",
              "          element.innerHTML = '';\n",
              "          dataTable['output_type'] = 'display_data';\n",
              "          await google.colab.output.renderOutput(dataTable, element);\n",
              "          const docLink = document.createElement('div');\n",
              "          docLink.innerHTML = docLinkHtml;\n",
              "          element.appendChild(docLink);\n",
              "        }\n",
              "      </script>\n",
              "    </div>\n",
              "  </div>\n",
              "  "
            ]
          },
          "metadata": {},
          "execution_count": 67
        }
      ]
    },
    {
      "cell_type": "code",
      "source": [
        "# Check for missing values\n",
        "print(dataset.isnull().sum())\n",
        "\n",
        "# Drop rows with missing values\n",
        "dataset = dataset.dropna()\n",
        "\n",
        "# Check for duplicates\n",
        "print(dataset.duplicated().sum())\n",
        "\n",
        "# Drop duplicates\n",
        "dataset = dataset.drop_duplicates()"
      ],
      "metadata": {
        "colab": {
          "base_uri": "https://localhost:8080/"
        },
        "id": "JdxYC0a_YGmx",
        "outputId": "5528d867-aecf-4843-9573-7c36158ec49f"
      },
      "execution_count": 69,
      "outputs": [
        {
          "output_type": "stream",
          "name": "stdout",
          "text": [
            "Age            0\n",
            "Sex            0\n",
            "BP             0\n",
            "Cholesterol    0\n",
            "Na_to_K        0\n",
            "Drug           0\n",
            "dtype: int64\n",
            "0\n"
          ]
        }
      ]
    },
    {
      "cell_type": "code",
      "source": [
        "X = dataset.iloc[:,1:6]\n",
        "\n",
        "Y = dataset['Age']\n",
        "\n",
        "X_train, X_test, Y_train, Y_test = train_test_split(X, Y, test_size = 0.2, random_state = 0)"
      ],
      "metadata": {
        "id": "xp6ngMv_daQP"
      },
      "execution_count": 71,
      "outputs": []
    },
    {
      "cell_type": "code",
      "source": [
        "X_train.shape"
      ],
      "metadata": {
        "colab": {
          "base_uri": "https://localhost:8080/"
        },
        "id": "SwSqKUIyY_pp",
        "outputId": "00ce986b-cd1e-442b-d362-f17bb21a2d6a"
      },
      "execution_count": 72,
      "outputs": [
        {
          "output_type": "execute_result",
          "data": {
            "text/plain": [
              "(160, 5)"
            ]
          },
          "metadata": {},
          "execution_count": 72
        }
      ]
    },
    {
      "cell_type": "code",
      "source": [
        "X_test.shape"
      ],
      "metadata": {
        "colab": {
          "base_uri": "https://localhost:8080/"
        },
        "id": "Kxg6MhqeZCD4",
        "outputId": "378d3df5-a922-4455-fdb7-db4936b1c085"
      },
      "execution_count": 73,
      "outputs": [
        {
          "output_type": "execute_result",
          "data": {
            "text/plain": [
              "(40, 5)"
            ]
          },
          "metadata": {},
          "execution_count": 73
        }
      ]
    },
    {
      "cell_type": "code",
      "source": [
        "Y_train.shape, Y_test.shape"
      ],
      "metadata": {
        "colab": {
          "base_uri": "https://localhost:8080/"
        },
        "id": "E9ZxObD9ZEpb",
        "outputId": "97126f12-3544-4b2a-8272-21c9da12c518"
      },
      "execution_count": 74,
      "outputs": [
        {
          "output_type": "execute_result",
          "data": {
            "text/plain": [
              "((160,), (40,))"
            ]
          },
          "metadata": {},
          "execution_count": 74
        }
      ]
    },
    {
      "cell_type": "code",
      "source": [
        "from sklearn.preprocessing import LabelEncoder\n",
        "\n",
        "le = LabelEncoder() # initialize the lib"
      ],
      "metadata": {
        "id": "olRTzPVIdXKV"
      },
      "execution_count": 75,
      "outputs": []
    },
    {
      "cell_type": "code",
      "source": [
        "X_train['Sex'] = le.fit_transform(X_train['Sex'])\n",
        "X_train['BP'] = le.fit_transform(X_train['BP'])\n",
        "X_train['Cholesterol'] = le.fit_transform(X_train['Cholesterol'])\n",
        "X_train['Drug'] = le.fit_transform(X_train['Drug'])"
      ],
      "metadata": {
        "id": "0Xh65WQ8dbZU"
      },
      "execution_count": 76,
      "outputs": []
    },
    {
      "cell_type": "code",
      "source": [
        "from tensorflow.keras.models import Sequential\n",
        "from tensorflow.keras.layers import Dense"
      ],
      "metadata": {
        "id": "UCRSlYlxdeFH"
      },
      "execution_count": 77,
      "outputs": []
    },
    {
      "cell_type": "markdown",
      "source": [
        "TASK 2"
      ],
      "metadata": {
        "id": "zhmNAlr24nT0"
      }
    },
    {
      "cell_type": "code",
      "source": [
        "# Initializing the seq model\n",
        "reg_model = Sequential()\n",
        "\n",
        "# Adding the input layer to the model\n",
        "reg_model.add(Dense(32,activation='relu'))\n",
        "\n",
        "# Adding the 2nd hidden layer to the model\n",
        "reg_model.add(Dense(16,activation='relu'))\n",
        "\n",
        "# Adding the 3rd hidden layer to the model\n",
        "reg_model.add(Dense(8,activation='relu'))\n",
        "\n",
        "\n",
        "# Adding output layer\n",
        "reg_model.add(Dense(1,activation='sigmoid'))"
      ],
      "metadata": {
        "id": "yav2xjWgdhQT"
      },
      "execution_count": 78,
      "outputs": []
    },
    {
      "cell_type": "code",
      "source": [
        "# Compile the model\n",
        "\n",
        "reg_model.compile(optimizer='adam', loss='binary_crossentropy', metrics=['accuracy'])"
      ],
      "metadata": {
        "id": "M_4IIxDndnMY"
      },
      "execution_count": 79,
      "outputs": []
    },
    {
      "cell_type": "code",
      "source": [
        "# Train the model\n",
        "\n",
        "reg_model.fit(X_train, Y_train, epochs=20, batch_size=5)"
      ],
      "metadata": {
        "colab": {
          "base_uri": "https://localhost:8080/"
        },
        "id": "WN4rzY1Zdrar",
        "outputId": "1aad5575-e061-4e2a-db2c-790e5d61fa2e"
      },
      "execution_count": 80,
      "outputs": [
        {
          "output_type": "stream",
          "name": "stdout",
          "text": [
            "Epoch 1/20\n",
            "32/32 [==============================] - 1s 2ms/step - loss: -124.8708 - accuracy: 0.0000e+00\n",
            "Epoch 2/20\n",
            "32/32 [==============================] - 0s 2ms/step - loss: -345.0923 - accuracy: 0.0000e+00\n",
            "Epoch 3/20\n",
            "32/32 [==============================] - 0s 2ms/step - loss: -748.5965 - accuracy: 0.0000e+00\n",
            "Epoch 4/20\n",
            "32/32 [==============================] - 0s 2ms/step - loss: -1544.3303 - accuracy: 0.0000e+00\n",
            "Epoch 5/20\n",
            "32/32 [==============================] - 0s 2ms/step - loss: -3223.0554 - accuracy: 0.0000e+00\n",
            "Epoch 6/20\n",
            "32/32 [==============================] - 0s 2ms/step - loss: -6909.1157 - accuracy: 0.0000e+00\n",
            "Epoch 7/20\n",
            "32/32 [==============================] - 0s 2ms/step - loss: -13298.6465 - accuracy: 0.0000e+00\n",
            "Epoch 8/20\n",
            "32/32 [==============================] - 0s 2ms/step - loss: -24499.8633 - accuracy: 0.0000e+00\n",
            "Epoch 9/20\n",
            "32/32 [==============================] - 0s 2ms/step - loss: -41522.0469 - accuracy: 0.0000e+00\n",
            "Epoch 10/20\n",
            "32/32 [==============================] - 0s 2ms/step - loss: -66455.7188 - accuracy: 0.0000e+00\n",
            "Epoch 11/20\n",
            "32/32 [==============================] - 0s 2ms/step - loss: -101431.4062 - accuracy: 0.0000e+00\n",
            "Epoch 12/20\n",
            "32/32 [==============================] - 0s 2ms/step - loss: -149138.0000 - accuracy: 0.0000e+00\n",
            "Epoch 13/20\n",
            "32/32 [==============================] - 0s 2ms/step - loss: -211069.7812 - accuracy: 0.0000e+00\n",
            "Epoch 14/20\n",
            "32/32 [==============================] - 0s 2ms/step - loss: -290284.1875 - accuracy: 0.0000e+00\n",
            "Epoch 15/20\n",
            "32/32 [==============================] - 0s 2ms/step - loss: -391267.6562 - accuracy: 0.0000e+00\n",
            "Epoch 16/20\n",
            "32/32 [==============================] - 0s 2ms/step - loss: -511503.5625 - accuracy: 0.0000e+00\n",
            "Epoch 17/20\n",
            "32/32 [==============================] - 0s 2ms/step - loss: -661366.8750 - accuracy: 0.0000e+00\n",
            "Epoch 18/20\n",
            "32/32 [==============================] - 0s 2ms/step - loss: -836366.4375 - accuracy: 0.0000e+00\n",
            "Epoch 19/20\n",
            "32/32 [==============================] - 0s 2ms/step - loss: -1045611.0000 - accuracy: 0.0000e+00\n",
            "Epoch 20/20\n",
            "32/32 [==============================] - 0s 2ms/step - loss: -1289236.7500 - accuracy: 0.0000e+00\n"
          ]
        },
        {
          "output_type": "execute_result",
          "data": {
            "text/plain": [
              "<keras.callbacks.History at 0x7f386f115210>"
            ]
          },
          "metadata": {},
          "execution_count": 80
        }
      ]
    },
    {
      "cell_type": "markdown",
      "source": [
        "TASK 3"
      ],
      "metadata": {
        "id": "GLH_dtla4rND"
      }
    },
    {
      "cell_type": "code",
      "source": [
        "# Testing the model\n",
        "\n",
        "reg_model.predict([[67,26,65,12,9]])"
      ],
      "metadata": {
        "colab": {
          "base_uri": "https://localhost:8080/"
        },
        "id": "cHQAJs9hdy9n",
        "outputId": "0278b99e-9406-4456-d241-1e9554a4d372"
      },
      "execution_count": 81,
      "outputs": [
        {
          "output_type": "stream",
          "name": "stdout",
          "text": [
            "1/1 [==============================] - 0s 143ms/step\n"
          ]
        },
        {
          "output_type": "execute_result",
          "data": {
            "text/plain": [
              "array([[1.]], dtype=float32)"
            ]
          },
          "metadata": {},
          "execution_count": 81
        }
      ]
    }
  ]
}