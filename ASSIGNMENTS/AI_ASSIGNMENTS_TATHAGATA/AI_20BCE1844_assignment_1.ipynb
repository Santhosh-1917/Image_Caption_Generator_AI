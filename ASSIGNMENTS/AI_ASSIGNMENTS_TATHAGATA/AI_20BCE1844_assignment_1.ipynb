{
  "cells": [
    {
      "cell_type": "markdown",
      "metadata": {
        "id": "tA0UTQmuXrOV"
      },
      "source": [
        "TATHAGATA BISWAS, 20BCE1844, \n",
        "VIT - CHENNAI, ASSIGNMENT 1 "
      ]
    },
    {
      "cell_type": "code",
      "execution_count": 6,
      "metadata": {
        "id": "F5zqVpEFXH3A"
      },
      "outputs": [
        {
          "ename": "ModuleNotFoundError",
          "evalue": "No module named 'pandas'",
          "output_type": "error",
          "traceback": [
            "\u001b[1;31m---------------------------------------------------------------------------\u001b[0m",
            "\u001b[1;31mModuleNotFoundError\u001b[0m                       Traceback (most recent call last)",
            "Cell \u001b[1;32mIn[6], line 1\u001b[0m\n\u001b[1;32m----> 1\u001b[0m \u001b[39mimport\u001b[39;00m \u001b[39mpandas\u001b[39;00m \u001b[39mas\u001b[39;00m \u001b[39mpd\u001b[39;00m\n\u001b[0;32m      2\u001b[0m \u001b[39mimport\u001b[39;00m \u001b[39mnumpy\u001b[39;00m \u001b[39mas\u001b[39;00m \u001b[39mnp\u001b[39;00m\n",
            "\u001b[1;31mModuleNotFoundError\u001b[0m: No module named 'pandas'"
          ]
        }
      ],
      "source": [
        "import pandas as pd\n",
        "import numpy as np"
      ]
    },
    {
      "cell_type": "code",
      "execution_count": null,
      "metadata": {
        "id": "0UtMWRrQYCi1"
      },
      "outputs": [],
      "source": [
        "# Set the random seed for reproductibility\n",
        "np.random.seed(100)"
      ]
    },
    {
      "cell_type": "code",
      "execution_count": null,
      "metadata": {
        "id": "ISPMlJEYYLkX"
      },
      "outputs": [],
      "source": [
        "#Create random values for the DataFrame\n",
        "data =np.random.randn(4,4)"
      ]
    },
    {
      "cell_type": "code",
      "execution_count": null,
      "metadata": {
        "id": "HL_HfM4CYYc6"
      },
      "outputs": [],
      "source": [
        "#Create the DataFrame\n",
        "df = pd.DataFrame(data, columns = ['Random Value 1', 'Random Value 2', 'Random Value 3', 'Random Value 4'])\n"
      ]
    },
    {
      "cell_type": "code",
      "execution_count": null,
      "metadata": {
        "colab": {
          "base_uri": "https://localhost:8080/"
        },
        "id": "Es4m8cI6Yxl4",
        "outputId": "de60f5da-75ec-4953-a382-009a3a4fdde1"
      },
      "outputs": [
        {
          "name": "stdout",
          "output_type": "stream",
          "text": [
            "   Random Value 1  Random Value 2  Random Value 3  Random Value 4\n",
            "0       -1.749765        0.342680        1.153036       -0.252436\n",
            "1        0.981321        0.514219        0.221180       -1.070043\n",
            "2       -0.189496        0.255001       -0.458027        0.435163\n",
            "3       -0.583595        0.816847        0.672721       -0.104411\n"
          ]
        }
      ],
      "source": [
        "#Print the DataFrame\n",
        "print(df)"
      ]
    },
    {
      "cell_type": "code",
      "execution_count": null,
      "metadata": {
        "id": "jQCIhOAgY5QG"
      },
      "outputs": [],
      "source": [
        "#Descriptive statistics\n",
        "stats = df.describe()"
      ]
    },
    {
      "cell_type": "code",
      "execution_count": null,
      "metadata": {
        "colab": {
          "base_uri": "https://localhost:8080/"
        },
        "id": "6pXOAjFrY_e4",
        "outputId": "689bfec2-9234-4333-cb2e-16e2a3a4d35f"
      },
      "outputs": [
        {
          "name": "stdout",
          "output_type": "stream",
          "text": [
            "       Random Value 1  Random Value 2  Random Value 3  Random Value 4\n",
            "count        4.000000        4.000000        4.000000        4.000000\n",
            "mean        -0.385384        0.482187        0.397227       -0.247932\n",
            "std          1.126511        0.247722        0.685467        0.622657\n",
            "min         -1.749765        0.255001       -0.458027       -1.070043\n",
            "25%         -0.875138        0.320761        0.051378       -0.456838\n",
            "50%         -0.386545        0.428450        0.446950       -0.178424\n",
            "75%          0.103208        0.589876        0.792800        0.030483\n",
            "max          0.981321        0.816847        1.153036        0.435163\n"
          ]
        }
      ],
      "source": [
        "#Print the statistics\n",
        "print(stats)"
      ]
    },
    {
      "cell_type": "code",
      "execution_count": null,
      "metadata": {
        "id": "LZUSDIQRZFZv"
      },
      "outputs": [],
      "source": [
        "#Check for null values\n",
        "null_values = df.isnull().sum()"
      ]
    },
    {
      "cell_type": "code",
      "execution_count": null,
      "metadata": {
        "id": "RNjOAYHsZNi2"
      },
      "outputs": [],
      "source": [
        "#Find the data type of columns\n",
        "data_types = df.dtypes"
      ]
    },
    {
      "cell_type": "code",
      "execution_count": null,
      "metadata": {
        "colab": {
          "base_uri": "https://localhost:8080/"
        },
        "id": "R3vyPtM0Zbmv",
        "outputId": "bcb1193b-93d5-4524-af85-0fa461bfc4ff"
      },
      "outputs": [
        {
          "name": "stdout",
          "output_type": "stream",
          "text": [
            "Null Values:\n",
            "Random Value 1    0\n",
            "Random Value 2    0\n",
            "Random Value 3    0\n",
            "Random Value 4    0\n",
            "dtype: int64\n",
            "\n",
            "Data types:\n",
            "Random Value 1    float64\n",
            "Random Value 2    float64\n",
            "Random Value 3    float64\n",
            "Random Value 4    float64\n",
            "dtype: object\n"
          ]
        }
      ],
      "source": [
        "#Print the results\n",
        "\n",
        "print(\"Null Values:\")\n",
        "print(null_values)\n",
        "\n",
        "print(\"\\nData types:\")\n",
        "print(data_types)"
      ]
    },
    {
      "cell_type": "code",
      "execution_count": null,
      "metadata": {
        "colab": {
          "base_uri": "https://localhost:8080/"
        },
        "id": "Fv5QiDzNZuTI",
        "outputId": "0c1c10e2-2ea8-43cd-cd30-6c1b856a436a"
      },
      "outputs": [
        {
          "name": "stdout",
          "output_type": "stream",
          "text": [
            "Using the location method:\n",
            "   Random Value 2  Random Value 3\n",
            "0        0.342680        1.153036\n",
            "1        0.514219        0.221180\n",
            "2        0.255001       -0.458027\n",
            "3        0.816847        0.672721\n"
          ]
        }
      ],
      "source": [
        "#Display columns using the location method\n",
        "location_method_cols = df.loc[:, ['Random Value 2', 'Random Value 3']]\n",
        "print(\"Using the location method:\")\n",
        "print(location_method_cols)"
      ]
    },
    {
      "cell_type": "code",
      "execution_count": null,
      "metadata": {
        "colab": {
          "base_uri": "https://localhost:8080/"
        },
        "id": "zU8p5gpRZ2Wr",
        "outputId": "a12d340b-d92b-4591-b75b-bffe7f766014"
      },
      "outputs": [
        {
          "name": "stdout",
          "output_type": "stream",
          "text": [
            "\n",
            "Using the index location method:\n",
            "   Random Value 2  Random Value 3\n",
            "0        0.342680        1.153036\n",
            "1        0.514219        0.221180\n",
            "2        0.255001       -0.458027\n",
            "3        0.816847        0.672721\n"
          ]
        }
      ],
      "source": [
        "#Display columns using the index location method\n",
        "index_location_method_cols = df.iloc[:, [1, 2]]\n",
        "print(\"\\nUsing the index location method:\")\n",
        "print(index_location_method_cols)"
      ]
    }
  ],
  "metadata": {
    "colab": {
      "provenance": []
    },
    "kernelspec": {
      "display_name": "Python 3",
      "name": "python3"
    },
    "language_info": {
      "codemirror_mode": {
        "name": "ipython",
        "version": 3
      },
      "file_extension": ".py",
      "mimetype": "text/x-python",
      "name": "python",
      "nbconvert_exporter": "python",
      "pygments_lexer": "ipython3",
      "version": "3.11.4"
    }
  },
  "nbformat": 4,
  "nbformat_minor": 0
}
